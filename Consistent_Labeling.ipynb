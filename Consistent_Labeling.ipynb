{
  "nbformat": 4,
  "nbformat_minor": 0,
  "metadata": {
    "colab": {
      "provenance": []
    },
    "kernelspec": {
      "name": "python3",
      "display_name": "Python 3"
    },
    "language_info": {
      "name": "python"
    }
  },
  "cells": [
    {
      "cell_type": "markdown",
      "source": [
        "# Consistent Labeling\n",
        "\n",
        "The eventual data will be collected from many partner hospitals across Nigeria. If some data is already segmented by a clinician, the numeric labeling of voxels may not be consistent. This script consults the corresponding JSON metadata files for the label mappings and modifies the segmentations such that the labelings are consistent.\n",
        "\n"
      ],
      "metadata": {
        "id": "8-UaC3oxk8Ux"
      }
    },
    {
      "cell_type": "code",
      "source": [
        "!pip install pydicom SimpleITK"
      ],
      "metadata": {
        "colab": {
          "base_uri": "https://localhost:8080/"
        },
        "id": "UCvPqjGY36m5",
        "outputId": "866211d3-e9e7-4622-f6cd-5daba35624a8"
      },
      "execution_count": null,
      "outputs": [
        {
          "output_type": "stream",
          "name": "stdout",
          "text": [
            "Collecting pydicom\n",
            "  Downloading pydicom-2.4.4-py3-none-any.whl.metadata (7.8 kB)\n",
            "Collecting SimpleITK\n",
            "  Downloading SimpleITK-2.3.1-cp310-cp310-manylinux_2_17_x86_64.manylinux2014_x86_64.whl.metadata (7.9 kB)\n",
            "Downloading pydicom-2.4.4-py3-none-any.whl (1.8 MB)\n",
            "\u001b[2K   \u001b[90m━━━━━━━━━━━━━━━━━━━━━━━━━━━━━━━━━━━━━━━━\u001b[0m \u001b[32m1.8/1.8 MB\u001b[0m \u001b[31m16.4 MB/s\u001b[0m eta \u001b[36m0:00:00\u001b[0m\n",
            "\u001b[?25hDownloading SimpleITK-2.3.1-cp310-cp310-manylinux_2_17_x86_64.manylinux2014_x86_64.whl (52.7 MB)\n",
            "\u001b[2K   \u001b[90m━━━━━━━━━━━━━━━━━━━━━━━━━━━━━━━━━━━━━━━━\u001b[0m \u001b[32m52.7/52.7 MB\u001b[0m \u001b[31m16.3 MB/s\u001b[0m eta \u001b[36m0:00:00\u001b[0m\n",
            "\u001b[?25hInstalling collected packages: SimpleITK, pydicom\n",
            "Successfully installed SimpleITK-2.3.1 pydicom-2.4.4\n"
          ]
        }
      ]
    },
    {
      "cell_type": "code",
      "execution_count": null,
      "metadata": {
        "id": "1iCHHOXy3pFQ"
      },
      "outputs": [],
      "source": [
        "from google.colab import drive\n",
        "import os\n",
        "import json\n",
        "import SimpleITK as sitk\n",
        "import numpy as np"
      ]
    },
    {
      "cell_type": "code",
      "source": [
        "drive.mount('/content/drive')"
      ],
      "metadata": {
        "colab": {
          "base_uri": "https://localhost:8080/"
        },
        "id": "GfQzANB94D1s",
        "outputId": "f4aee1fc-83a8-426a-a5b3-8f0e07f5d7ba"
      },
      "execution_count": null,
      "outputs": [
        {
          "output_type": "stream",
          "name": "stdout",
          "text": [
            "Mounted at /content/drive\n"
          ]
        }
      ]
    },
    {
      "cell_type": "code",
      "source": [
        "nifti_directory = '/content/drive/MyDrive/NSCLC-Radiomics-Sample/NSCLC-Radiomics-recon/Test Segmentations/Segmentations to be Combined'\n",
        "json_directory = '/content/drive/MyDrive/NSCLC-Radiomics-Sample/NSCLC-Radiomics-recon/JSON mappings'\n",
        "output_directory = '/content/drive/MyDrive/NSCLC-Radiomics-Sample/NSCLC-Radiomics-recon/Test Segmentations/Final Segmentations'\n",
        "output_json_file = '/content/drive/MyDrive/NSCLC-Radiomics-Sample/NSCLC-Radiomics-recon/Test Segmentations/Final Segmentations/combined_label_mapping.json'"
      ],
      "metadata": {
        "id": "x1mcL3p76FuK"
      },
      "execution_count": null,
      "outputs": []
    },
    {
      "cell_type": "code",
      "source": [
        "label_priority = {\n",
        "    \"GTV-1\": 1,\n",
        "    \"Lung-Left\": 2,\n",
        "    \"Lung-Right\": 3,\n",
        "    \"Heart\": 4,\n",
        "    \"Esophagus\": 5,\n",
        "    \"Spinal-Cord\": 6\n",
        "}\n",
        "\n",
        "def load_nifti_images(directory):\n",
        "    nifti_images = {}\n",
        "    for filename in os.listdir(directory):\n",
        "        if filename.endswith('.nii') or filename.endswith('.nii.gz'):\n",
        "            base_filename = filename.split('_seg')[0]\n",
        "            if base_filename not in nifti_images:\n",
        "                nifti_images[base_filename] = []\n",
        "            nifti_images[base_filename].append((sitk.ReadImage(os.path.join(directory, filename)), filename))\n",
        "    return nifti_images\n",
        "\n",
        "def check_segmentation(nifti_image):\n",
        "    img_array = sitk.GetArrayFromImage(nifti_image)\n",
        "    return np.any(img_array > 0)\n",
        "\n",
        "def extract_labels(nifti_image):\n",
        "    img_array = sitk.GetArrayFromImage(nifti_image)\n",
        "    unique_labels = np.unique(img_array)\n",
        "    return unique_labels\n",
        "\n",
        "def combine_segmentations(nifti_images, segment_descriptions, label_priority):\n",
        "    combined_array = None\n",
        "    priority_array = None\n",
        "\n",
        "    for nifti_image, description in zip(nifti_images, segment_descriptions):\n",
        "        img_array = sitk.GetArrayFromImage(nifti_image)\n",
        "        priority = label_priority.get(description, 99)\n",
        "\n",
        "        if combined_array is None:\n",
        "            combined_array = np.zeros_like(img_array)\n",
        "            priority_array = np.full_like(img_array, 100)\n",
        "\n",
        "        mask = (img_array > 0) & (priority < priority_array)\n",
        "        combined_array[mask] = img_array[mask]\n",
        "        priority_array[mask] = priority\n",
        "\n",
        "    combined_image = sitk.GetImageFromArray(combined_array)\n",
        "    combined_image.CopyInformation(nifti_images[0])\n",
        "    return combined_image\n",
        "\n",
        "def create_consistent_label_mapping(label_mappings, label_description_mapping):\n",
        "    consistent_mapping = {}\n",
        "    uniform_label_description_mapping = {\n",
        "        1: \"Lung-Left\",\n",
        "        2: \"Lung-Right\"\n",
        "    }\n",
        "\n",
        "    for numeric_label, description in label_description_mapping.items():\n",
        "        if description == \"Lung-Left\":\n",
        "            consistent_mapping[numeric_label] = 1\n",
        "        elif description == \"Lung-Right\":\n",
        "            consistent_mapping[numeric_label] = 2\n",
        "\n",
        "    next_available_label = 3\n",
        "\n",
        "    for mapping in label_mappings:\n",
        "        for numeric_label in mapping:\n",
        "            if numeric_label != 0 and numeric_label not in consistent_mapping:\n",
        "                if numeric_label in label_description_mapping:\n",
        "                    if label_description_mapping[numeric_label] not in uniform_label_description_mapping.values():\n",
        "                        consistent_mapping[numeric_label] = next_available_label\n",
        "                        uniform_label_description_mapping[next_available_label] = label_description_mapping[numeric_label]\n",
        "                        next_available_label += 1\n",
        "\n",
        "    return consistent_mapping, uniform_label_description_mapping\n",
        "\n",
        "def update_nifti_labels(nifti_image, consistent_mapping):\n",
        "    img_array = sitk.GetArrayFromImage(nifti_image)\n",
        "    updated_array = np.zeros_like(img_array)\n",
        "    for original_label, new_label in consistent_mapping.items():\n",
        "        updated_array[img_array == original_label] = new_label\n",
        "    updated_image = sitk.GetImageFromArray(updated_array)\n",
        "    updated_image.CopyInformation(nifti_image)\n",
        "    return updated_image\n",
        "\n",
        "def save_nifti_images(nifti_images, filenames, output_directory):\n",
        "    if not os.path.exists(output_directory):\n",
        "        os.makedirs(output_directory)\n",
        "    for nifti_image, filename in zip(nifti_images, filenames):\n",
        "        new_filename = f'new_{filename}'\n",
        "        sitk.WriteImage(nifti_image, os.path.join(output_directory, new_filename))\n",
        "\n",
        "def load_json_mapping(json_file):\n",
        "    with open(json_file, 'r') as f:\n",
        "        label_mapping_data = json.load(f)\n",
        "    label_mapping_dict = {}\n",
        "    for segment in label_mapping_data[\"segmentAttributes\"]:\n",
        "        for attr in segment:\n",
        "            label_id = attr[\"labelID\"]\n",
        "            segment_description = attr[\"SegmentDescription\"]\n",
        "            label_mapping_dict[label_id] = segment_description\n",
        "    return label_mapping_dict"
      ],
      "metadata": {
        "id": "1SHVRZcZ66C-"
      },
      "execution_count": null,
      "outputs": []
    },
    {
      "cell_type": "code",
      "source": [
        "nifti_images_dict = load_nifti_images(nifti_directory)\n",
        "combined_segmentations = {}\n",
        "label_mappings = []\n",
        "label_description_mapping = {}\n",
        "\n",
        "for base_filename, nifti_images in nifti_images_dict.items():\n",
        "    json_filename = base_filename + '.json'\n",
        "    json_filepath = os.path.join(json_directory, json_filename)\n",
        "    if os.path.exists(json_filepath):\n",
        "        label_mapping_dict = load_json_mapping(json_filepath)\n",
        "        segment_descriptions = [label_mapping_dict.get(int(extract_labels(img)[0]), \"Unknown\") for img, _ in nifti_images]\n",
        "        combined_nifti_image = combine_segmentations([img for img, _ in nifti_images], segment_descriptions, label_priority)\n",
        "        nifti_images_dict[base_filename] = [combined_nifti_image]\n",
        "\n",
        "        unique_labels = extract_labels(combined_nifti_image)\n",
        "        label_mappings.append(unique_labels)\n",
        "        for numeric_label in unique_labels:\n",
        "            if numeric_label != 0:  # Assuming 0 is background\n",
        "                segment_description = label_mapping_dict.get(int(numeric_label))\n",
        "                if segment_description:\n",
        "                    label_description_mapping[int(numeric_label)] = segment_description\n",
        "                    if segment_description not in combined_segmentations:\n",
        "                        combined_segmentations[segment_description] = []\n",
        "                    combined_segmentations[segment_description].append(combined_nifti_image)\n",
        "                else:\n",
        "                    print(f\"  Warning: No description found for Numeric Label: {numeric_label}.\")\n",
        "    else:\n",
        "        print(f\"Warning: No JSON mapping file found for {base_filename}.\")\n",
        "\n",
        "consistent_mapping, uniform_label_description_mapping = create_consistent_label_mapping(label_mappings, label_description_mapping)\n",
        "\n",
        "with open(output_json_file, 'w') as f:\n",
        "    json.dump(uniform_label_description_mapping, f, indent=4)\n",
        "\n",
        "updated_nifti_images = [update_nifti_labels(image[0], consistent_mapping) for image in nifti_images_dict.values()]\n",
        "\n",
        "save_nifti_images(updated_nifti_images, [f\"combined_{base_filename}.nii.gz\" for base_filename in nifti_images_dict.keys()], output_directory)\n",
        "\n",
        "print(\"Updated NIfTI images and uniform label mapping saved to\", output_directory)"
      ],
      "metadata": {
        "colab": {
          "base_uri": "https://localhost:8080/"
        },
        "id": "ebGPNF2R69yG",
        "outputId": "fa4ec5a9-a49d-4264-ee03-4af34f2ad0c5"
      },
      "execution_count": null,
      "outputs": [
        {
          "output_type": "stream",
          "name": "stdout",
          "text": [
            "Updated NIfTI images and uniform label mapping saved to /content/drive/MyDrive/NSCLC-Radiomics-Sample/NSCLC-Radiomics-recon/Test Segmentations/Final Segmentations\n"
          ]
        }
      ]
    }
  ]
}